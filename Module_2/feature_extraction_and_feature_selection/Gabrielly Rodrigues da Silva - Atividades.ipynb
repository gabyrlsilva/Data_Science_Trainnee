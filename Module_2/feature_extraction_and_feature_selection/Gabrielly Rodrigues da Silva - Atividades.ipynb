{
 "cells": [
  {
   "cell_type": "markdown",
   "metadata": {},
   "source": [
    "Atividades\n",
    "===\n",
    "\n",
    "Essas atividade são relativas a aulas de extração de atributos e selecão de atributos. \n",
    "- Link para video: https://drive.google.com/file/d/13LLQGLt7QsjKshBXgUdJ4RVOT8N252cU/view\n",
    "- Link para apresentação: https://docs.google.com/presentation/d/1wctFgQe7TSlBEypZbVQqqsfrnpSgOeXPSO-mCJ6jIz4\n",
    "\n",
    "\n",
    "> Lembre de criar uma `virtualenv` com os `requirements.txt` do repositório.\n",
    "\n",
    "> Lembre de criar uma `kernel` do jupyter para seus desenvolvimentos\n",
    "\n",
    "> **MANTENHA** essa arquivo no local padrão do repositório. Detro da pasta **feature_extraction_and_feature_selection**.\n",
    "\n",
    "> Enviei apenas o seu notebook para correção. Não é necessário enviar nenhum outro arquivo. Siga o padrão `Atividades-<NOME-DO-ALUNO>.ipynb`"
   ]
  },
  {
   "cell_type": "markdown",
   "metadata": {},
   "source": [
    "# Feature Extraction"
   ]
  },
  {
   "cell_type": "markdown",
   "metadata": {},
   "source": [
    "## 1. Realizar a extração de atributos utilzando as técnicas Fourier e HOS nas bases de dados"
   ]
  },
  {
   "cell_type": "markdown",
   "metadata": {},
   "source": [
    "- Dados de falhas em aerogeradores\n",
    "\n",
    "As orientações abaixo devem ser seguidas antes de iniciar os trabalhos\n",
    "\n",
    "> Todo os arquivos nomeados com `v000_ ... .csv` são referentes a essa base.\n",
    "\n",
    "> A classe referente ao dado está representada por uma TAG no nome do arquivo da seguinte forma: `v000_NORMAL_ ... .csv` é o dado referente a classe de funcionamento normal do gerador. A TAG `v000_SC_LI_LVL3_ ... .csv` é a classe referente a falha tipo 1 e continua. Não se preocupem com a ordem de enumeração das classes nesse momento.\n",
    "\n",
    "> Há 5 arquivos na pasta.\n",
    "\n",
    "> Utilizar as colunas a `Current_R`, `Current_S`, `Current_T` para realizar extração de atributos. Perceba que cada coluna é referente a uma sinal de corrente elétrica, portanto cada um são representados vetores de dimensões $1x50000$.\n",
    "\n",
    "> Antes de realizar a extração de atributos deve-se dividir cada sinal em 10 partes de tamanho $1x5000$. A ideia aqui é aumentar o número de amostra da base de dados por 10. Pense que cada parte é um recorte do sinal, e ao serem concatenadas retornarão o sinal original."
   ]
  },
  {
   "cell_type": "markdown",
   "metadata": {},
   "source": [
    "# Imports"
   ]
  },
  {
   "cell_type": "code",
   "execution_count": 308,
   "metadata": {},
   "outputs": [],
   "source": [
    "import pandas as pd\n",
    "import numpy as np\n",
    "from os import path\n",
    "from feature_extraction_signal.src import feature_extraction\n",
    "from feature_selection_framework.src.feature_selection import*"
   ]
  },
  {
   "cell_type": "markdown",
   "metadata": {},
   "source": [
    "### Carregue a base"
   ]
  },
  {
   "cell_type": "code",
   "execution_count": 39,
   "metadata": {},
   "outputs": [],
   "source": [
    "DATAFOLDER = path.join('..', '..', 'data')\n",
    "DATAFILES = [\n",
    "        'v000_FAULT_SC_HI_LVL2_FR6000_FG5942_L000_0,6IN_SENSORC.csv', \n",
    "        'v000_FAULT_SC_LI_LVL3_FR4500_FG4365_L000_0,8IN_SENSORC.csv',\n",
    "        'v000_FAULT_SC_LI_LVL3_FR6000_FG5927_L000_0,4IN_SENSORC.csv',\n",
    "        'v000_NORMAL_FR4500_FG4385_L000_1,0IN_SENSORC.csv',\n",
    "        'v000_NORMAL_FR6000_FG5955_L000_0,5IN_SENSORC.csv']\n",
    "\n",
    "SEED = 1987298712\n",
    "\n",
    "data_normal = pd.read_csv(path.join(DATAFOLDER, DATAFILES[4]))\n",
    "data_fault = pd.read_csv(path.join(DATAFOLDER, DATAFILES[2]))"
   ]
  },
  {
   "cell_type": "markdown",
   "metadata": {},
   "source": [
    "### a) Comparativo da média do sinal e sua distribuição\n",
    "\n",
    "- Realize o calculo da média e desvio padrão em cada um dos sinais e exiba o resultado em um dataframe. Discuta suas conclusões.\n",
    "\n",
    "**help**: utilize as funcões nativas do numpy ou do pandas. Lembre que o sinal é uma senoide, qual a média em uma senoide simétrica?"
   ]
  },
  {
   "cell_type": "code",
   "execution_count": 40,
   "metadata": {},
   "outputs": [
    {
     "data": {
      "text/html": [
       "<div>\n",
       "<style scoped>\n",
       "    .dataframe tbody tr th:only-of-type {\n",
       "        vertical-align: middle;\n",
       "    }\n",
       "\n",
       "    .dataframe tbody tr th {\n",
       "        vertical-align: top;\n",
       "    }\n",
       "\n",
       "    .dataframe thead th {\n",
       "        text-align: right;\n",
       "    }\n",
       "</style>\n",
       "<table border=\"1\" class=\"dataframe\">\n",
       "  <thead>\n",
       "    <tr style=\"text-align: right;\">\n",
       "      <th></th>\n",
       "      <th>Média</th>\n",
       "      <th>Desvio</th>\n",
       "    </tr>\n",
       "  </thead>\n",
       "  <tbody>\n",
       "    <tr>\n",
       "      <th>0</th>\n",
       "      <td>-0.010286</td>\n",
       "      <td>1.184251e+00</td>\n",
       "    </tr>\n",
       "    <tr>\n",
       "      <th>1</th>\n",
       "      <td>0.012611</td>\n",
       "      <td>1.188874e+00</td>\n",
       "    </tr>\n",
       "    <tr>\n",
       "      <th>2</th>\n",
       "      <td>0.002357</td>\n",
       "      <td>1.197354e+00</td>\n",
       "    </tr>\n",
       "    <tr>\n",
       "      <th>3</th>\n",
       "      <td>2.499768</td>\n",
       "      <td>1.355010e-01</td>\n",
       "    </tr>\n",
       "    <tr>\n",
       "      <th>4</th>\n",
       "      <td>2.496935</td>\n",
       "      <td>1.350311e-01</td>\n",
       "    </tr>\n",
       "    <tr>\n",
       "      <th>5</th>\n",
       "      <td>2.491380</td>\n",
       "      <td>1.254342e-01</td>\n",
       "    </tr>\n",
       "    <tr>\n",
       "      <th>6</th>\n",
       "      <td>60.000000</td>\n",
       "      <td>0.000000e+00</td>\n",
       "    </tr>\n",
       "    <tr>\n",
       "      <th>7</th>\n",
       "      <td>59.550000</td>\n",
       "      <td>3.192500e-11</td>\n",
       "    </tr>\n",
       "    <tr>\n",
       "      <th>8</th>\n",
       "      <td>210.000000</td>\n",
       "      <td>0.000000e+00</td>\n",
       "    </tr>\n",
       "    <tr>\n",
       "      <th>9</th>\n",
       "      <td>0.100000</td>\n",
       "      <td>1.317015e-14</td>\n",
       "    </tr>\n",
       "    <tr>\n",
       "      <th>10</th>\n",
       "      <td>0.000000</td>\n",
       "      <td>0.000000e+00</td>\n",
       "    </tr>\n",
       "    <tr>\n",
       "      <th>11</th>\n",
       "      <td>1.184284</td>\n",
       "      <td>5.662194e-13</td>\n",
       "    </tr>\n",
       "    <tr>\n",
       "      <th>12</th>\n",
       "      <td>1.188929</td>\n",
       "      <td>1.101352e-12</td>\n",
       "    </tr>\n",
       "    <tr>\n",
       "      <th>13</th>\n",
       "      <td>1.197345</td>\n",
       "      <td>8.915180e-13</td>\n",
       "    </tr>\n",
       "  </tbody>\n",
       "</table>\n",
       "</div>"
      ],
      "text/plain": [
       "         Média        Desvio\n",
       "0    -0.010286  1.184251e+00\n",
       "1     0.012611  1.188874e+00\n",
       "2     0.002357  1.197354e+00\n",
       "3     2.499768  1.355010e-01\n",
       "4     2.496935  1.350311e-01\n",
       "5     2.491380  1.254342e-01\n",
       "6    60.000000  0.000000e+00\n",
       "7    59.550000  3.192500e-11\n",
       "8   210.000000  0.000000e+00\n",
       "9     0.100000  1.317015e-14\n",
       "10    0.000000  0.000000e+00\n",
       "11    1.184284  5.662194e-13\n",
       "12    1.188929  1.101352e-12\n",
       "13    1.197345  8.915180e-13"
      ]
     },
     "execution_count": 40,
     "metadata": {},
     "output_type": "execute_result"
    }
   ],
   "source": [
    "media_list=[]\n",
    "desvio_list=[]\n",
    "\n",
    "for i in range(14):    \n",
    "    media_list.append(data_normal.mean().values[i])\n",
    "    desvio_list.append(data_normal.std().values[i])\n",
    "    \n",
    "df_media = pd.DataFrame(data=media_list, columns=['Média'])\n",
    "df_desvio = pd.DataFrame(data=desvio_list, columns=['Desvio'])\n",
    "\n",
    "pd.concat([df_media, df_desvio], axis=1, join='inner')"
   ]
  },
  {
   "cell_type": "markdown",
   "metadata": {},
   "source": [
    "### b) Extração de atributos no sinal\n",
    "\n",
    "- Utilize o código de `feature_extraction_signal` em: https://github.com/navarmn/feature_extraction_signal\n",
    "- Use as classes `Fourier` e `HOS` de maneira adequada. Lembre do método `.transform()`.\n",
    "- Na classe `Fourier`utilize os parâmetros: `fs=5000`; o valor de fundamental está na TAG do nome em `_FG5955_`significa `fundamental=59.55`. `harmonics=(0.5, 1, 1.5, 2.5, 3, 5, 7)`, mas sintam-se à vontade para buscar outras harmônicas;\n",
    "- Os rótulos devem serem impostos de acordo com a descrição da tag feita cima. \n",
    "- Monte um dataframe que contenham os atributos em cada coluna e a útlima com o rótulo. Concatene os artibutos extraídos da `Current_R`, `Current_S` e `Current_T`.\n",
    "- Deverá ser feito um dataframe para os atributos de Fourier e um para os atributos de HOS."
   ]
  },
  {
   "cell_type": "code",
   "execution_count": 41,
   "metadata": {},
   "outputs": [],
   "source": [
    "fe_fourier = feature_extraction.Fourier(fundamental=59.55, fs=5000, harmonics=(0.5, 1, 1.5, 2.5, 3, 5, 7))"
   ]
  },
  {
   "cell_type": "code",
   "execution_count": 42,
   "metadata": {},
   "outputs": [],
   "source": [
    "fourierR=[]\n",
    "fourierS=[]\n",
    "fourierT=[]\n",
    "\n",
    "for datafile in DATAFILES:\n",
    "    data = pd.read_csv(path.join(DATAFOLDER, datafile))\n",
    "    \n",
    "    vetorFR = fe_fourier.transform(data['Current_R'])\n",
    "    fourierR.append(vetorFR['features']) \n",
    "    vetorFS = fe_fourier.transform(data['Current_S'])\n",
    "    fourierS.append(vetorFS['features'])\n",
    "    vetorFT = fe_fourier.transform(data['Current_T'])\n",
    "    fourierT.append(vetorFT['features'])\n",
    "\n",
    "df_FR = pd.DataFrame(data=fourierR, columns= ['0.5', '1', '1.5', '2.5', '3', '5', '7'])\n",
    "df_FS = pd.DataFrame(data=fourierS, columns= ['0.5', '1', '1.5', '2.5', '3', '5', '7'])\n",
    "df_FT = pd.DataFrame(data=fourierT, columns= ['0.5', '1', '1.5', '2.5', '3', '5', '7'])\n",
    "\n",
    "\n",
    "A=df_FR.rename(columns={'0.5': '0.5_R', '1': '1_R','1.5': '1.5_R', '2.5': '2.5_R', '3': '3_R', '5': '5_R', '7': '7_R'})\n",
    "B=df_FS.rename(columns={'0.5': '0.5_S', '1': '1_S','1.5': '1.5_S', '2.5': '2.5_S', '3': '3_S', '5': '5_S', '7': '7_S'})\n",
    "C=df_FT.rename(columns={'0.5': '0.5_T', '1': '1_T','1.5': '1.5_T', '2.5': '2.5_T', '3': '3_T', '5': '5_T', '7': '7_T'})"
   ]
  },
  {
   "cell_type": "code",
   "execution_count": 43,
   "metadata": {},
   "outputs": [
    {
     "data": {
      "text/html": [
       "<div>\n",
       "<style scoped>\n",
       "    .dataframe tbody tr th:only-of-type {\n",
       "        vertical-align: middle;\n",
       "    }\n",
       "\n",
       "    .dataframe tbody tr th {\n",
       "        vertical-align: top;\n",
       "    }\n",
       "\n",
       "    .dataframe thead th {\n",
       "        text-align: right;\n",
       "    }\n",
       "</style>\n",
       "<table border=\"1\" class=\"dataframe\">\n",
       "  <thead>\n",
       "    <tr style=\"text-align: right;\">\n",
       "      <th></th>\n",
       "      <th>0.5_R</th>\n",
       "      <th>1_R</th>\n",
       "      <th>1.5_R</th>\n",
       "      <th>2.5_R</th>\n",
       "      <th>3_R</th>\n",
       "      <th>5_R</th>\n",
       "      <th>7_R</th>\n",
       "      <th>0.5_S</th>\n",
       "      <th>1_S</th>\n",
       "      <th>1.5_S</th>\n",
       "      <th>...</th>\n",
       "      <th>3_S</th>\n",
       "      <th>5_S</th>\n",
       "      <th>7_S</th>\n",
       "      <th>0.5_T</th>\n",
       "      <th>1_T</th>\n",
       "      <th>1.5_T</th>\n",
       "      <th>2.5_T</th>\n",
       "      <th>3_T</th>\n",
       "      <th>5_T</th>\n",
       "      <th>7_T</th>\n",
       "    </tr>\n",
       "  </thead>\n",
       "  <tbody>\n",
       "    <tr>\n",
       "      <th>0</th>\n",
       "      <td>0.001095</td>\n",
       "      <td>0.001277</td>\n",
       "      <td>0.001918</td>\n",
       "      <td>0.002628</td>\n",
       "      <td>0.002227</td>\n",
       "      <td>0.002919</td>\n",
       "      <td>0.002225</td>\n",
       "      <td>0.001408</td>\n",
       "      <td>0.002476</td>\n",
       "      <td>0.002738</td>\n",
       "      <td>...</td>\n",
       "      <td>0.001564</td>\n",
       "      <td>0.003230</td>\n",
       "      <td>0.002526</td>\n",
       "      <td>0.002274</td>\n",
       "      <td>0.004525</td>\n",
       "      <td>0.002392</td>\n",
       "      <td>0.002334</td>\n",
       "      <td>0.002347</td>\n",
       "      <td>0.002364</td>\n",
       "      <td>0.002707</td>\n",
       "    </tr>\n",
       "    <tr>\n",
       "      <th>1</th>\n",
       "      <td>0.002822</td>\n",
       "      <td>0.003791</td>\n",
       "      <td>0.019491</td>\n",
       "      <td>0.005401</td>\n",
       "      <td>0.003715</td>\n",
       "      <td>0.004000</td>\n",
       "      <td>0.004861</td>\n",
       "      <td>0.002159</td>\n",
       "      <td>0.002268</td>\n",
       "      <td>0.020921</td>\n",
       "      <td>...</td>\n",
       "      <td>0.005281</td>\n",
       "      <td>0.007329</td>\n",
       "      <td>0.005246</td>\n",
       "      <td>0.004543</td>\n",
       "      <td>0.007272</td>\n",
       "      <td>0.021583</td>\n",
       "      <td>0.008734</td>\n",
       "      <td>0.008741</td>\n",
       "      <td>0.008049</td>\n",
       "      <td>0.006918</td>\n",
       "    </tr>\n",
       "    <tr>\n",
       "      <th>2</th>\n",
       "      <td>0.001429</td>\n",
       "      <td>0.004262</td>\n",
       "      <td>0.003552</td>\n",
       "      <td>0.003507</td>\n",
       "      <td>0.004367</td>\n",
       "      <td>0.003292</td>\n",
       "      <td>0.003073</td>\n",
       "      <td>0.001102</td>\n",
       "      <td>0.004450</td>\n",
       "      <td>0.003826</td>\n",
       "      <td>...</td>\n",
       "      <td>0.002369</td>\n",
       "      <td>0.003196</td>\n",
       "      <td>0.001750</td>\n",
       "      <td>0.001230</td>\n",
       "      <td>0.003121</td>\n",
       "      <td>0.002720</td>\n",
       "      <td>0.003168</td>\n",
       "      <td>0.002555</td>\n",
       "      <td>0.001651</td>\n",
       "      <td>0.001859</td>\n",
       "    </tr>\n",
       "    <tr>\n",
       "      <th>3</th>\n",
       "      <td>0.005041</td>\n",
       "      <td>0.005721</td>\n",
       "      <td>0.017829</td>\n",
       "      <td>0.010172</td>\n",
       "      <td>0.008299</td>\n",
       "      <td>0.010946</td>\n",
       "      <td>0.007722</td>\n",
       "      <td>0.004242</td>\n",
       "      <td>0.004446</td>\n",
       "      <td>0.013907</td>\n",
       "      <td>...</td>\n",
       "      <td>0.007882</td>\n",
       "      <td>0.007870</td>\n",
       "      <td>0.006494</td>\n",
       "      <td>0.002791</td>\n",
       "      <td>0.003975</td>\n",
       "      <td>0.018066</td>\n",
       "      <td>0.008152</td>\n",
       "      <td>0.006263</td>\n",
       "      <td>0.005550</td>\n",
       "      <td>0.004520</td>\n",
       "    </tr>\n",
       "    <tr>\n",
       "      <th>4</th>\n",
       "      <td>0.001962</td>\n",
       "      <td>0.002993</td>\n",
       "      <td>0.002656</td>\n",
       "      <td>0.003446</td>\n",
       "      <td>0.002962</td>\n",
       "      <td>0.003507</td>\n",
       "      <td>0.003205</td>\n",
       "      <td>0.003298</td>\n",
       "      <td>0.006923</td>\n",
       "      <td>0.005191</td>\n",
       "      <td>...</td>\n",
       "      <td>0.003641</td>\n",
       "      <td>0.002768</td>\n",
       "      <td>0.003440</td>\n",
       "      <td>0.002696</td>\n",
       "      <td>0.005173</td>\n",
       "      <td>0.004397</td>\n",
       "      <td>0.003026</td>\n",
       "      <td>0.002255</td>\n",
       "      <td>0.003243</td>\n",
       "      <td>0.003083</td>\n",
       "    </tr>\n",
       "  </tbody>\n",
       "</table>\n",
       "<p>5 rows × 21 columns</p>\n",
       "</div>"
      ],
      "text/plain": [
       "      0.5_R       1_R     1.5_R     2.5_R       3_R       5_R       7_R  \\\n",
       "0  0.001095  0.001277  0.001918  0.002628  0.002227  0.002919  0.002225   \n",
       "1  0.002822  0.003791  0.019491  0.005401  0.003715  0.004000  0.004861   \n",
       "2  0.001429  0.004262  0.003552  0.003507  0.004367  0.003292  0.003073   \n",
       "3  0.005041  0.005721  0.017829  0.010172  0.008299  0.010946  0.007722   \n",
       "4  0.001962  0.002993  0.002656  0.003446  0.002962  0.003507  0.003205   \n",
       "\n",
       "      0.5_S       1_S     1.5_S  ...       3_S       5_S       7_S     0.5_T  \\\n",
       "0  0.001408  0.002476  0.002738  ...  0.001564  0.003230  0.002526  0.002274   \n",
       "1  0.002159  0.002268  0.020921  ...  0.005281  0.007329  0.005246  0.004543   \n",
       "2  0.001102  0.004450  0.003826  ...  0.002369  0.003196  0.001750  0.001230   \n",
       "3  0.004242  0.004446  0.013907  ...  0.007882  0.007870  0.006494  0.002791   \n",
       "4  0.003298  0.006923  0.005191  ...  0.003641  0.002768  0.003440  0.002696   \n",
       "\n",
       "        1_T     1.5_T     2.5_T       3_T       5_T       7_T  \n",
       "0  0.004525  0.002392  0.002334  0.002347  0.002364  0.002707  \n",
       "1  0.007272  0.021583  0.008734  0.008741  0.008049  0.006918  \n",
       "2  0.003121  0.002720  0.003168  0.002555  0.001651  0.001859  \n",
       "3  0.003975  0.018066  0.008152  0.006263  0.005550  0.004520  \n",
       "4  0.005173  0.004397  0.003026  0.002255  0.003243  0.003083  \n",
       "\n",
       "[5 rows x 21 columns]"
      ]
     },
     "execution_count": 43,
     "metadata": {},
     "output_type": "execute_result"
    }
   ],
   "source": [
    "Fourier = pd.concat([A,B,C],axis=1, join='inner')\n",
    "Fourier"
   ]
  },
  {
   "cell_type": "code",
   "execution_count": 44,
   "metadata": {},
   "outputs": [
    {
     "data": {
      "text/html": [
       "<div>\n",
       "<style scoped>\n",
       "    .dataframe tbody tr th:only-of-type {\n",
       "        vertical-align: middle;\n",
       "    }\n",
       "\n",
       "    .dataframe tbody tr th {\n",
       "        vertical-align: top;\n",
       "    }\n",
       "\n",
       "    .dataframe thead th {\n",
       "        text-align: right;\n",
       "    }\n",
       "</style>\n",
       "<table border=\"1\" class=\"dataframe\">\n",
       "  <thead>\n",
       "    <tr style=\"text-align: right;\">\n",
       "      <th></th>\n",
       "      <th>Rms_R</th>\n",
       "      <th>Skewness_R</th>\n",
       "      <th>Kurtosis_R</th>\n",
       "      <th>Variance_R</th>\n",
       "      <th>Rms_S</th>\n",
       "      <th>Skewness_S</th>\n",
       "      <th>Kurtosis_S</th>\n",
       "      <th>Variance_S</th>\n",
       "      <th>Rms_T</th>\n",
       "      <th>Skewness_T</th>\n",
       "      <th>Kurtosis_T</th>\n",
       "      <th>Variance_T</th>\n",
       "    </tr>\n",
       "  </thead>\n",
       "  <tbody>\n",
       "    <tr>\n",
       "      <th>0</th>\n",
       "      <td>1.295173</td>\n",
       "      <td>1.677402</td>\n",
       "      <td>0.003296</td>\n",
       "      <td>-1.442273</td>\n",
       "      <td>1.211041</td>\n",
       "      <td>1.466524</td>\n",
       "      <td>0.006055</td>\n",
       "      <td>-1.436841</td>\n",
       "      <td>1.249027</td>\n",
       "      <td>1.560100</td>\n",
       "      <td>0.003729</td>\n",
       "      <td>-1.439101</td>\n",
       "    </tr>\n",
       "    <tr>\n",
       "      <th>1</th>\n",
       "      <td>3.148889</td>\n",
       "      <td>9.915628</td>\n",
       "      <td>0.000336</td>\n",
       "      <td>-1.520664</td>\n",
       "      <td>2.414731</td>\n",
       "      <td>5.830991</td>\n",
       "      <td>-0.008669</td>\n",
       "      <td>-1.326985</td>\n",
       "      <td>2.460111</td>\n",
       "      <td>6.052261</td>\n",
       "      <td>-0.005396</td>\n",
       "      <td>-1.443063</td>\n",
       "    </tr>\n",
       "    <tr>\n",
       "      <th>2</th>\n",
       "      <td>1.560922</td>\n",
       "      <td>2.436410</td>\n",
       "      <td>0.001083</td>\n",
       "      <td>-1.482916</td>\n",
       "      <td>1.293480</td>\n",
       "      <td>1.672948</td>\n",
       "      <td>0.006783</td>\n",
       "      <td>-1.361676</td>\n",
       "      <td>1.110920</td>\n",
       "      <td>1.234167</td>\n",
       "      <td>-0.002570</td>\n",
       "      <td>-1.407382</td>\n",
       "    </tr>\n",
       "    <tr>\n",
       "      <th>3</th>\n",
       "      <td>2.906343</td>\n",
       "      <td>8.446975</td>\n",
       "      <td>-0.005243</td>\n",
       "      <td>-1.472242</td>\n",
       "      <td>2.920356</td>\n",
       "      <td>8.528573</td>\n",
       "      <td>-0.004661</td>\n",
       "      <td>-1.473669</td>\n",
       "      <td>2.986445</td>\n",
       "      <td>8.919035</td>\n",
       "      <td>-0.005999</td>\n",
       "      <td>-1.442528</td>\n",
       "    </tr>\n",
       "    <tr>\n",
       "      <th>4</th>\n",
       "      <td>1.184284</td>\n",
       "      <td>1.402451</td>\n",
       "      <td>0.005195</td>\n",
       "      <td>-1.446144</td>\n",
       "      <td>1.188929</td>\n",
       "      <td>1.413422</td>\n",
       "      <td>0.001404</td>\n",
       "      <td>-1.448900</td>\n",
       "      <td>1.197345</td>\n",
       "      <td>1.433657</td>\n",
       "      <td>0.000487</td>\n",
       "      <td>-1.443700</td>\n",
       "    </tr>\n",
       "  </tbody>\n",
       "</table>\n",
       "</div>"
      ],
      "text/plain": [
       "      Rms_R  Skewness_R  Kurtosis_R  Variance_R     Rms_S  Skewness_S  \\\n",
       "0  1.295173    1.677402    0.003296   -1.442273  1.211041    1.466524   \n",
       "1  3.148889    9.915628    0.000336   -1.520664  2.414731    5.830991   \n",
       "2  1.560922    2.436410    0.001083   -1.482916  1.293480    1.672948   \n",
       "3  2.906343    8.446975   -0.005243   -1.472242  2.920356    8.528573   \n",
       "4  1.184284    1.402451    0.005195   -1.446144  1.188929    1.413422   \n",
       "\n",
       "   Kurtosis_S  Variance_S     Rms_T  Skewness_T  Kurtosis_T  Variance_T  \n",
       "0    0.006055   -1.436841  1.249027    1.560100    0.003729   -1.439101  \n",
       "1   -0.008669   -1.326985  2.460111    6.052261   -0.005396   -1.443063  \n",
       "2    0.006783   -1.361676  1.110920    1.234167   -0.002570   -1.407382  \n",
       "3   -0.004661   -1.473669  2.986445    8.919035   -0.005999   -1.442528  \n",
       "4    0.001404   -1.448900  1.197345    1.433657    0.000487   -1.443700  "
      ]
     },
     "execution_count": 44,
     "metadata": {},
     "output_type": "execute_result"
    }
   ],
   "source": [
    "fe_hosR = feature_extraction.HOS()\n",
    "fe_hosR.transform(data_normal['Current_R'])\n",
    "fe_hosS = feature_extraction.HOS()\n",
    "fe_hosS.transform(data_normal['Current_S'])\n",
    "fe_hosT = feature_extraction.HOS()\n",
    "fe_hosT.transform(data_normal['Current_T'])\n",
    "\n",
    "hos_listR = []\n",
    "hos_listS = []\n",
    "hos_listT = []\n",
    "\n",
    "for datafile in DATAFILES:\n",
    "    data = pd.read_csv(path.join(DATAFOLDER, datafile))\n",
    "    feature_vector_hosR = fe_hosR.transform(data['Current_R'])\n",
    "    hos_listR.append(feature_vector_hosR['features'])\n",
    "    feature_vector_hosS = fe_hosS.transform(data['Current_S'])\n",
    "    hos_listS.append(feature_vector_hosS['features'])\n",
    "    feature_vector_hosT = fe_hosT.transform(data['Current_T'])\n",
    "    hos_listT.append(feature_vector_hosT['features'])\n",
    "    \n",
    "df_hosR = pd.DataFrame(data=hos_listR, columns=['Rms', 'Skewness', 'Kurtosis', 'Variance'])\n",
    "df_hosS = pd.DataFrame(data=hos_listS, columns=['Rms', 'Skewness', 'Kurtosis', 'Variance'])\n",
    "df_hosT = pd.DataFrame(data=hos_listT, columns=['Rms', 'Skewness', 'Kurtosis', 'Variance'])\n",
    "\n",
    "\n",
    "D=df_hosR.rename(columns={'Rms': 'Rms_R', 'Skewness': 'Skewness_R','Kurtosis': 'Kurtosis_R', 'Variance': 'Variance_R'})\n",
    "E=df_hosS.rename(columns={'Rms': 'Rms_S', 'Skewness': 'Skewness_S','Kurtosis': 'Kurtosis_S', 'Variance': 'Variance_S'})\n",
    "F=df_hosT.rename(columns={'Rms': 'Rms_T', 'Skewness': 'Skewness_T','Kurtosis': 'Kurtosis_T', 'Variance': 'Variance_T'})\n",
    "\n",
    "\n",
    "\n",
    "HOS = pd.concat([D,E,F], axis=1, join='inner')\n",
    "HOS"
   ]
  },
  {
   "cell_type": "code",
   "execution_count": 45,
   "metadata": {},
   "outputs": [
    {
     "data": {
      "text/html": [
       "<div>\n",
       "<style scoped>\n",
       "    .dataframe tbody tr th:only-of-type {\n",
       "        vertical-align: middle;\n",
       "    }\n",
       "\n",
       "    .dataframe tbody tr th {\n",
       "        vertical-align: top;\n",
       "    }\n",
       "\n",
       "    .dataframe thead th {\n",
       "        text-align: right;\n",
       "    }\n",
       "</style>\n",
       "<table border=\"1\" class=\"dataframe\">\n",
       "  <thead>\n",
       "    <tr style=\"text-align: right;\">\n",
       "      <th></th>\n",
       "      <th>0.5_R</th>\n",
       "      <th>1_R</th>\n",
       "      <th>1.5_R</th>\n",
       "      <th>2.5_R</th>\n",
       "      <th>3_R</th>\n",
       "      <th>5_R</th>\n",
       "      <th>7_R</th>\n",
       "      <th>0.5_S</th>\n",
       "      <th>1_S</th>\n",
       "      <th>1.5_S</th>\n",
       "      <th>...</th>\n",
       "      <th>Kurtosis_R</th>\n",
       "      <th>Variance_R</th>\n",
       "      <th>Rms_S</th>\n",
       "      <th>Skewness_S</th>\n",
       "      <th>Kurtosis_S</th>\n",
       "      <th>Variance_S</th>\n",
       "      <th>Rms_T</th>\n",
       "      <th>Skewness_T</th>\n",
       "      <th>Kurtosis_T</th>\n",
       "      <th>Variance_T</th>\n",
       "    </tr>\n",
       "  </thead>\n",
       "  <tbody>\n",
       "    <tr>\n",
       "      <th>0</th>\n",
       "      <td>0.001095</td>\n",
       "      <td>0.001277</td>\n",
       "      <td>0.001918</td>\n",
       "      <td>0.002628</td>\n",
       "      <td>0.002227</td>\n",
       "      <td>0.002919</td>\n",
       "      <td>0.002225</td>\n",
       "      <td>0.001408</td>\n",
       "      <td>0.002476</td>\n",
       "      <td>0.002738</td>\n",
       "      <td>...</td>\n",
       "      <td>0.003296</td>\n",
       "      <td>-1.442273</td>\n",
       "      <td>1.211041</td>\n",
       "      <td>1.466524</td>\n",
       "      <td>0.006055</td>\n",
       "      <td>-1.436841</td>\n",
       "      <td>1.249027</td>\n",
       "      <td>1.560100</td>\n",
       "      <td>0.003729</td>\n",
       "      <td>-1.439101</td>\n",
       "    </tr>\n",
       "    <tr>\n",
       "      <th>1</th>\n",
       "      <td>0.002822</td>\n",
       "      <td>0.003791</td>\n",
       "      <td>0.019491</td>\n",
       "      <td>0.005401</td>\n",
       "      <td>0.003715</td>\n",
       "      <td>0.004000</td>\n",
       "      <td>0.004861</td>\n",
       "      <td>0.002159</td>\n",
       "      <td>0.002268</td>\n",
       "      <td>0.020921</td>\n",
       "      <td>...</td>\n",
       "      <td>0.000336</td>\n",
       "      <td>-1.520664</td>\n",
       "      <td>2.414731</td>\n",
       "      <td>5.830991</td>\n",
       "      <td>-0.008669</td>\n",
       "      <td>-1.326985</td>\n",
       "      <td>2.460111</td>\n",
       "      <td>6.052261</td>\n",
       "      <td>-0.005396</td>\n",
       "      <td>-1.443063</td>\n",
       "    </tr>\n",
       "    <tr>\n",
       "      <th>2</th>\n",
       "      <td>0.001429</td>\n",
       "      <td>0.004262</td>\n",
       "      <td>0.003552</td>\n",
       "      <td>0.003507</td>\n",
       "      <td>0.004367</td>\n",
       "      <td>0.003292</td>\n",
       "      <td>0.003073</td>\n",
       "      <td>0.001102</td>\n",
       "      <td>0.004450</td>\n",
       "      <td>0.003826</td>\n",
       "      <td>...</td>\n",
       "      <td>0.001083</td>\n",
       "      <td>-1.482916</td>\n",
       "      <td>1.293480</td>\n",
       "      <td>1.672948</td>\n",
       "      <td>0.006783</td>\n",
       "      <td>-1.361676</td>\n",
       "      <td>1.110920</td>\n",
       "      <td>1.234167</td>\n",
       "      <td>-0.002570</td>\n",
       "      <td>-1.407382</td>\n",
       "    </tr>\n",
       "    <tr>\n",
       "      <th>3</th>\n",
       "      <td>0.005041</td>\n",
       "      <td>0.005721</td>\n",
       "      <td>0.017829</td>\n",
       "      <td>0.010172</td>\n",
       "      <td>0.008299</td>\n",
       "      <td>0.010946</td>\n",
       "      <td>0.007722</td>\n",
       "      <td>0.004242</td>\n",
       "      <td>0.004446</td>\n",
       "      <td>0.013907</td>\n",
       "      <td>...</td>\n",
       "      <td>-0.005243</td>\n",
       "      <td>-1.472242</td>\n",
       "      <td>2.920356</td>\n",
       "      <td>8.528573</td>\n",
       "      <td>-0.004661</td>\n",
       "      <td>-1.473669</td>\n",
       "      <td>2.986445</td>\n",
       "      <td>8.919035</td>\n",
       "      <td>-0.005999</td>\n",
       "      <td>-1.442528</td>\n",
       "    </tr>\n",
       "    <tr>\n",
       "      <th>4</th>\n",
       "      <td>0.001962</td>\n",
       "      <td>0.002993</td>\n",
       "      <td>0.002656</td>\n",
       "      <td>0.003446</td>\n",
       "      <td>0.002962</td>\n",
       "      <td>0.003507</td>\n",
       "      <td>0.003205</td>\n",
       "      <td>0.003298</td>\n",
       "      <td>0.006923</td>\n",
       "      <td>0.005191</td>\n",
       "      <td>...</td>\n",
       "      <td>0.005195</td>\n",
       "      <td>-1.446144</td>\n",
       "      <td>1.188929</td>\n",
       "      <td>1.413422</td>\n",
       "      <td>0.001404</td>\n",
       "      <td>-1.448900</td>\n",
       "      <td>1.197345</td>\n",
       "      <td>1.433657</td>\n",
       "      <td>0.000487</td>\n",
       "      <td>-1.443700</td>\n",
       "    </tr>\n",
       "  </tbody>\n",
       "</table>\n",
       "<p>5 rows × 33 columns</p>\n",
       "</div>"
      ],
      "text/plain": [
       "      0.5_R       1_R     1.5_R     2.5_R       3_R       5_R       7_R  \\\n",
       "0  0.001095  0.001277  0.001918  0.002628  0.002227  0.002919  0.002225   \n",
       "1  0.002822  0.003791  0.019491  0.005401  0.003715  0.004000  0.004861   \n",
       "2  0.001429  0.004262  0.003552  0.003507  0.004367  0.003292  0.003073   \n",
       "3  0.005041  0.005721  0.017829  0.010172  0.008299  0.010946  0.007722   \n",
       "4  0.001962  0.002993  0.002656  0.003446  0.002962  0.003507  0.003205   \n",
       "\n",
       "      0.5_S       1_S     1.5_S  ...  Kurtosis_R  Variance_R     Rms_S  \\\n",
       "0  0.001408  0.002476  0.002738  ...    0.003296   -1.442273  1.211041   \n",
       "1  0.002159  0.002268  0.020921  ...    0.000336   -1.520664  2.414731   \n",
       "2  0.001102  0.004450  0.003826  ...    0.001083   -1.482916  1.293480   \n",
       "3  0.004242  0.004446  0.013907  ...   -0.005243   -1.472242  2.920356   \n",
       "4  0.003298  0.006923  0.005191  ...    0.005195   -1.446144  1.188929   \n",
       "\n",
       "   Skewness_S  Kurtosis_S  Variance_S     Rms_T  Skewness_T  Kurtosis_T  \\\n",
       "0    1.466524    0.006055   -1.436841  1.249027    1.560100    0.003729   \n",
       "1    5.830991   -0.008669   -1.326985  2.460111    6.052261   -0.005396   \n",
       "2    1.672948    0.006783   -1.361676  1.110920    1.234167   -0.002570   \n",
       "3    8.528573   -0.004661   -1.473669  2.986445    8.919035   -0.005999   \n",
       "4    1.413422    0.001404   -1.448900  1.197345    1.433657    0.000487   \n",
       "\n",
       "   Variance_T  \n",
       "0   -1.439101  \n",
       "1   -1.443063  \n",
       "2   -1.407382  \n",
       "3   -1.442528  \n",
       "4   -1.443700  \n",
       "\n",
       "[5 rows x 33 columns]"
      ]
     },
     "execution_count": 45,
     "metadata": {},
     "output_type": "execute_result"
    }
   ],
   "source": [
    "Concatenar = pd.concat([Fourier, HOS], axis=1, join='inner')\n",
    "Concatenar"
   ]
  },
  {
   "cell_type": "markdown",
   "metadata": {},
   "source": [
    "### c) Análise exploratória na base criada com os extratores de atributos\n",
    "- Use a ferramenta `pandas-profiling` https://github.com/pandas-profiling/pandas-profiling\n",
    "- Faça um resumo do relatório, destacando os principais pontos gerados na base.\n",
    "- Faça uma análise para cada uma das bases:\n",
    "    1. Features criada com Fourier\n",
    "    2. Features criada com HOS\n",
    "    3. Combinação das duas features (Fourier + HOS). \n",
    "> Dica: dê atenção ao coeficiente de correlação."
   ]
  },
  {
   "cell_type": "code",
   "execution_count": 10,
   "metadata": {
    "scrolled": true
   },
   "outputs": [
    {
     "data": {
      "application/vnd.jupyter.widget-view+json": {
       "model_id": "a3de7d9dac144102b5213cf3bad27e9c",
       "version_major": 2,
       "version_minor": 0
      },
      "text/plain": [
       "HBox(children=(FloatProgress(value=0.0, description='variables', max=21.0, style=ProgressStyle(description_wid…"
      ]
     },
     "metadata": {},
     "output_type": "display_data"
    },
    {
     "name": "stdout",
     "output_type": "stream",
     "text": [
      "\n"
     ]
    },
    {
     "data": {
      "application/vnd.jupyter.widget-view+json": {
       "model_id": "c136e71f973e430f83d1a29cc7bdd8be",
       "version_major": 2,
       "version_minor": 0
      },
      "text/plain": [
       "HBox(children=(FloatProgress(value=0.0, description='correlations', max=6.0, style=ProgressStyle(description_w…"
      ]
     },
     "metadata": {},
     "output_type": "display_data"
    },
    {
     "name": "stdout",
     "output_type": "stream",
     "text": [
      "\n"
     ]
    },
    {
     "data": {
      "application/vnd.jupyter.widget-view+json": {
       "model_id": "12cae894a865458cbb96bd956d60d056",
       "version_major": 2,
       "version_minor": 0
      },
      "text/plain": [
       "HBox(children=(FloatProgress(value=0.0, description='interactions [continuous]', max=441.0, style=ProgressStyl…"
      ]
     },
     "metadata": {},
     "output_type": "display_data"
    },
    {
     "name": "stdout",
     "output_type": "stream",
     "text": [
      "\n"
     ]
    },
    {
     "data": {
      "application/vnd.jupyter.widget-view+json": {
       "model_id": "fa11a249c77e4b47bfa87178568a57cc",
       "version_major": 2,
       "version_minor": 0
      },
      "text/plain": [
       "HBox(children=(FloatProgress(value=0.0, description='table', max=1.0, style=ProgressStyle(description_width='i…"
      ]
     },
     "metadata": {},
     "output_type": "display_data"
    },
    {
     "name": "stdout",
     "output_type": "stream",
     "text": [
      "\n"
     ]
    },
    {
     "data": {
      "application/vnd.jupyter.widget-view+json": {
       "model_id": "b2cc983c282547deacb5458f2e64ee76",
       "version_major": 2,
       "version_minor": 0
      },
      "text/plain": [
       "HBox(children=(FloatProgress(value=0.0, description='missing', max=2.0, style=ProgressStyle(description_width=…"
      ]
     },
     "metadata": {},
     "output_type": "display_data"
    },
    {
     "name": "stdout",
     "output_type": "stream",
     "text": [
      "\n"
     ]
    },
    {
     "data": {
      "application/vnd.jupyter.widget-view+json": {
       "model_id": "197b91bf253945fabe8f9ab20a0ff59d",
       "version_major": 2,
       "version_minor": 0
      },
      "text/plain": [
       "HBox(children=(FloatProgress(value=0.0, description='warnings', max=3.0, style=ProgressStyle(description_width…"
      ]
     },
     "metadata": {},
     "output_type": "display_data"
    },
    {
     "name": "stdout",
     "output_type": "stream",
     "text": [
      "\n"
     ]
    },
    {
     "data": {
      "application/vnd.jupyter.widget-view+json": {
       "model_id": "860de98ef2ae42d2b9b7e981850202f2",
       "version_major": 2,
       "version_minor": 0
      },
      "text/plain": [
       "HBox(children=(FloatProgress(value=0.0, description='package', max=1.0, style=ProgressStyle(description_width=…"
      ]
     },
     "metadata": {},
     "output_type": "display_data"
    },
    {
     "name": "stdout",
     "output_type": "stream",
     "text": [
      "\n"
     ]
    },
    {
     "data": {
      "application/vnd.jupyter.widget-view+json": {
       "model_id": "53237bfca6b040bdaff4daf2bc11e87a",
       "version_major": 2,
       "version_minor": 0
      },
      "text/plain": [
       "HBox(children=(FloatProgress(value=0.0, description='build report structure', max=1.0, style=ProgressStyle(des…"
      ]
     },
     "metadata": {},
     "output_type": "display_data"
    },
    {
     "name": "stdout",
     "output_type": "stream",
     "text": [
      "\n"
     ]
    }
   ],
   "source": [
    "from pandas_profiling import ProfileReport\n",
    "\n",
    "profileF = ProfileReport(Fourier, title='Base Fourier', html={'style':{'full_width':True}})"
   ]
  },
  {
   "cell_type": "code",
   "execution_count": 11,
   "metadata": {},
   "outputs": [
    {
     "data": {
      "application/vnd.jupyter.widget-view+json": {
       "model_id": "47a79a4e401c4f469f3bb0b5aad31776",
       "version_major": 2,
       "version_minor": 0
      },
      "text/plain": [
       "Tab(children=(Tab(children=(GridBox(children=(VBox(children=(GridspecLayout(children=(HTML(value='Number of va…"
      ]
     },
     "metadata": {},
     "output_type": "display_data"
    },
    {
     "data": {
      "text/html": [
       "Report generated with <a href=\"https://github.com/pandas-profiling/pandas-profiling\">pandas-profiling</a>."
      ],
      "text/plain": [
       "<IPython.core.display.HTML object>"
      ]
     },
     "metadata": {},
     "output_type": "display_data"
    }
   ],
   "source": [
    "profileF.to_widgets()"
   ]
  },
  {
   "cell_type": "markdown",
   "metadata": {},
   "source": [
    "# Relatório da base Fourier\n",
    "\n",
    "- No início do relatório, podemos ter uma visão geral e resumida do que está presente na base. Nessa base, existe 21 variáveis, nenhuma informação faltando e o tamanho da memória que ocupa no programa.\n",
    "- Cada variável terá a média, mínimo e máximo, além de qual variável tem uma alta correlação.\n",
    "- Toda a interação com si mesmo, é uma representação linear, mas a interação com as outras variáveis é variada, porque apresentação uma diferença grande de um ponto ao outro.\n",
    "- A correlação de Pearson calcula o quanto uma variável depende da outra na base. É fácil ver que a corrente R tem uma grande correlação com as harmônicas dela, mas também com as correntes S e T, mesmo que a correlação seja um pouco menor. No entanto, a harmônica 1.0 das correntes S e T tem uma baixa e negativa correlação com as demais harmônicas. "
   ]
  },
  {
   "cell_type": "code",
   "execution_count": 12,
   "metadata": {},
   "outputs": [
    {
     "data": {
      "application/vnd.jupyter.widget-view+json": {
       "model_id": "133028c22246461ea2af6aa58ba94fde",
       "version_major": 2,
       "version_minor": 0
      },
      "text/plain": [
       "HBox(children=(FloatProgress(value=0.0, description='variables', max=12.0, style=ProgressStyle(description_wid…"
      ]
     },
     "metadata": {},
     "output_type": "display_data"
    },
    {
     "name": "stdout",
     "output_type": "stream",
     "text": [
      "\n"
     ]
    },
    {
     "data": {
      "application/vnd.jupyter.widget-view+json": {
       "model_id": "a7f34c1444054380a0fbe09d8d9b187a",
       "version_major": 2,
       "version_minor": 0
      },
      "text/plain": [
       "HBox(children=(FloatProgress(value=0.0, description='correlations', max=6.0, style=ProgressStyle(description_w…"
      ]
     },
     "metadata": {},
     "output_type": "display_data"
    },
    {
     "name": "stdout",
     "output_type": "stream",
     "text": [
      "\n"
     ]
    },
    {
     "data": {
      "application/vnd.jupyter.widget-view+json": {
       "model_id": "43005db6d26b4a14aeed2abe4c926c0b",
       "version_major": 2,
       "version_minor": 0
      },
      "text/plain": [
       "HBox(children=(FloatProgress(value=0.0, description='interactions [continuous]', max=144.0, style=ProgressStyl…"
      ]
     },
     "metadata": {},
     "output_type": "display_data"
    },
    {
     "name": "stdout",
     "output_type": "stream",
     "text": [
      "\n"
     ]
    },
    {
     "data": {
      "application/vnd.jupyter.widget-view+json": {
       "model_id": "3b92fb50bd964605b218022c3278adfa",
       "version_major": 2,
       "version_minor": 0
      },
      "text/plain": [
       "HBox(children=(FloatProgress(value=0.0, description='table', max=1.0, style=ProgressStyle(description_width='i…"
      ]
     },
     "metadata": {},
     "output_type": "display_data"
    },
    {
     "name": "stdout",
     "output_type": "stream",
     "text": [
      "\n"
     ]
    },
    {
     "data": {
      "application/vnd.jupyter.widget-view+json": {
       "model_id": "6db1123fc0fe42fca48138c1bda90577",
       "version_major": 2,
       "version_minor": 0
      },
      "text/plain": [
       "HBox(children=(FloatProgress(value=0.0, description='missing', max=2.0, style=ProgressStyle(description_width=…"
      ]
     },
     "metadata": {},
     "output_type": "display_data"
    },
    {
     "name": "stdout",
     "output_type": "stream",
     "text": [
      "\n"
     ]
    },
    {
     "data": {
      "application/vnd.jupyter.widget-view+json": {
       "model_id": "aeca9cad04dc4ef9a98edc1de19a712d",
       "version_major": 2,
       "version_minor": 0
      },
      "text/plain": [
       "HBox(children=(FloatProgress(value=0.0, description='warnings', max=3.0, style=ProgressStyle(description_width…"
      ]
     },
     "metadata": {},
     "output_type": "display_data"
    },
    {
     "name": "stdout",
     "output_type": "stream",
     "text": [
      "\n"
     ]
    },
    {
     "data": {
      "application/vnd.jupyter.widget-view+json": {
       "model_id": "645e95d3a218457bbc3c71d4ab589d8e",
       "version_major": 2,
       "version_minor": 0
      },
      "text/plain": [
       "HBox(children=(FloatProgress(value=0.0, description='package', max=1.0, style=ProgressStyle(description_width=…"
      ]
     },
     "metadata": {},
     "output_type": "display_data"
    },
    {
     "name": "stdout",
     "output_type": "stream",
     "text": [
      "\n"
     ]
    },
    {
     "data": {
      "application/vnd.jupyter.widget-view+json": {
       "model_id": "f1eec3aacc5146e187c77f567dde90d7",
       "version_major": 2,
       "version_minor": 0
      },
      "text/plain": [
       "HBox(children=(FloatProgress(value=0.0, description='build report structure', max=1.0, style=ProgressStyle(des…"
      ]
     },
     "metadata": {},
     "output_type": "display_data"
    },
    {
     "name": "stdout",
     "output_type": "stream",
     "text": [
      "\n"
     ]
    }
   ],
   "source": [
    "from pandas_profiling import ProfileReport\n",
    "\n",
    "profileH = ProfileReport(HOS, title='Base HOS', html={'style':{'full_width':True}})"
   ]
  },
  {
   "cell_type": "code",
   "execution_count": 13,
   "metadata": {},
   "outputs": [
    {
     "data": {
      "application/vnd.jupyter.widget-view+json": {
       "model_id": "6ce68e6a11f94aa58853ca407a90e5f6",
       "version_major": 2,
       "version_minor": 0
      },
      "text/plain": [
       "Tab(children=(Tab(children=(GridBox(children=(VBox(children=(GridspecLayout(children=(HTML(value='Number of va…"
      ]
     },
     "metadata": {},
     "output_type": "display_data"
    },
    {
     "data": {
      "text/html": [
       "Report generated with <a href=\"https://github.com/pandas-profiling/pandas-profiling\">pandas-profiling</a>."
      ],
      "text/plain": [
       "<IPython.core.display.HTML object>"
      ]
     },
     "metadata": {},
     "output_type": "display_data"
    }
   ],
   "source": [
    "profileH.to_widgets()"
   ]
  },
  {
   "cell_type": "markdown",
   "metadata": {},
   "source": [
    "# Relatório da base HOS\n",
    "\n",
    "- No início temos uma visão geral na qual sabemos que na base existe 12 variáveis, nenhuma informação faltando e o total de memória ocupada na base.\n",
    "- As variáveis sempre apresentam a média, mínimo e máximo dos dados, além de uma lista de variáveis que tem uma alta correlação com a variável desejada. \n",
    "- Quando estamos na janela de interação confirmamos quais as variáveis tem uma interação e correlação mostrada em cada variável, assim, quando os pontos estão alinhados, significa que tem uma alta interação, mas quanto mais disperso, a interação é menor.\n",
    "- A correlação de rms com skewness ou vice-versa, de qualquer corrente é alta, mas a correlação de kurtosis e variânce tem uma correlação negativa com as demais variáveis, mas entre elas tem uma boa correlação. Já a variância da corrente S não há correlação com as outras variáveis."
   ]
  },
  {
   "cell_type": "code",
   "execution_count": 9,
   "metadata": {},
   "outputs": [
    {
     "data": {
      "application/vnd.jupyter.widget-view+json": {
       "model_id": "63b8fc72c0b24f2e88fece1061a5bd3b",
       "version_major": 2,
       "version_minor": 0
      },
      "text/plain": [
       "HBox(children=(FloatProgress(value=0.0, description='variables', max=33.0, style=ProgressStyle(description_wid…"
      ]
     },
     "metadata": {},
     "output_type": "display_data"
    },
    {
     "name": "stdout",
     "output_type": "stream",
     "text": [
      "\n"
     ]
    },
    {
     "data": {
      "application/vnd.jupyter.widget-view+json": {
       "model_id": "36194e8d07334c7eba9e26c9dce25acc",
       "version_major": 2,
       "version_minor": 0
      },
      "text/plain": [
       "HBox(children=(FloatProgress(value=0.0, description='correlations', max=6.0, style=ProgressStyle(description_w…"
      ]
     },
     "metadata": {},
     "output_type": "display_data"
    },
    {
     "name": "stdout",
     "output_type": "stream",
     "text": [
      "\n"
     ]
    },
    {
     "data": {
      "application/vnd.jupyter.widget-view+json": {
       "model_id": "2c7e9840ab05481ebf55d4276377cf43",
       "version_major": 2,
       "version_minor": 0
      },
      "text/plain": [
       "HBox(children=(FloatProgress(value=0.0, description='interactions [continuous]', max=1089.0, style=ProgressSty…"
      ]
     },
     "metadata": {},
     "output_type": "display_data"
    },
    {
     "name": "stdout",
     "output_type": "stream",
     "text": [
      "\n"
     ]
    },
    {
     "data": {
      "application/vnd.jupyter.widget-view+json": {
       "model_id": "7729ee6bab23405eb9d94a65909b23ce",
       "version_major": 2,
       "version_minor": 0
      },
      "text/plain": [
       "HBox(children=(FloatProgress(value=0.0, description='table', max=1.0, style=ProgressStyle(description_width='i…"
      ]
     },
     "metadata": {},
     "output_type": "display_data"
    },
    {
     "name": "stdout",
     "output_type": "stream",
     "text": [
      "\n"
     ]
    },
    {
     "data": {
      "application/vnd.jupyter.widget-view+json": {
       "model_id": "062c516db74248ed9cf6544c2ffadbeb",
       "version_major": 2,
       "version_minor": 0
      },
      "text/plain": [
       "HBox(children=(FloatProgress(value=0.0, description='missing', max=2.0, style=ProgressStyle(description_width=…"
      ]
     },
     "metadata": {},
     "output_type": "display_data"
    },
    {
     "name": "stdout",
     "output_type": "stream",
     "text": [
      "\n"
     ]
    },
    {
     "data": {
      "application/vnd.jupyter.widget-view+json": {
       "model_id": "99ad72a160d84e7a874ae4492399c5ff",
       "version_major": 2,
       "version_minor": 0
      },
      "text/plain": [
       "HBox(children=(FloatProgress(value=0.0, description='warnings', max=3.0, style=ProgressStyle(description_width…"
      ]
     },
     "metadata": {},
     "output_type": "display_data"
    },
    {
     "name": "stdout",
     "output_type": "stream",
     "text": [
      "\n"
     ]
    },
    {
     "data": {
      "application/vnd.jupyter.widget-view+json": {
       "model_id": "9f78524809fd4084b933f292c4130ba2",
       "version_major": 2,
       "version_minor": 0
      },
      "text/plain": [
       "HBox(children=(FloatProgress(value=0.0, description='package', max=1.0, style=ProgressStyle(description_width=…"
      ]
     },
     "metadata": {},
     "output_type": "display_data"
    },
    {
     "name": "stdout",
     "output_type": "stream",
     "text": [
      "\n"
     ]
    },
    {
     "data": {
      "application/vnd.jupyter.widget-view+json": {
       "model_id": "6bfe67a4f7c0474dab68f7b9bcd01c23",
       "version_major": 2,
       "version_minor": 0
      },
      "text/plain": [
       "HBox(children=(FloatProgress(value=0.0, description='build report structure', max=1.0, style=ProgressStyle(des…"
      ]
     },
     "metadata": {},
     "output_type": "display_data"
    },
    {
     "name": "stdout",
     "output_type": "stream",
     "text": [
      "\n"
     ]
    }
   ],
   "source": [
    "from pandas_profiling import ProfileReport\n",
    "\n",
    "profileFH = ProfileReport(Concatenar, title='Base Concatenada', html={'style':{'full_width':True}})"
   ]
  },
  {
   "cell_type": "code",
   "execution_count": 10,
   "metadata": {},
   "outputs": [
    {
     "data": {
      "application/vnd.jupyter.widget-view+json": {
       "model_id": "29eea57712da49d587b4b80ddab04ed3",
       "version_major": 2,
       "version_minor": 0
      },
      "text/plain": [
       "Tab(children=(Tab(children=(GridBox(children=(VBox(children=(GridspecLayout(children=(HTML(value='Number of va…"
      ]
     },
     "metadata": {},
     "output_type": "display_data"
    },
    {
     "data": {
      "text/html": [
       "Report generated with <a href=\"https://github.com/pandas-profiling/pandas-profiling\">pandas-profiling</a>."
      ],
      "text/plain": [
       "<IPython.core.display.HTML object>"
      ]
     },
     "metadata": {},
     "output_type": "display_data"
    }
   ],
   "source": [
    "profileFH.to_widgets()"
   ]
  },
  {
   "cell_type": "markdown",
   "metadata": {},
   "source": [
    "# Relatório das duas bases juntas\n",
    "\n",
    "- Existem 33 variáveis a serem analisadas, nenhuma informação da nova base faltando e um total de memória utilizada. As informações das variáveis permanecem a mesma dos dois últimos relatórios, como média, máximo e mínimo.\n",
    "- A interação das variáveis ainda permanecem as mesmas podendo ratificar as correlações.\n",
    "- A correlação de Fourier e de HOS ainda permanecem como na representação anterior. As novas correlações entre as variáveis das duas bases, temos que as correntes R, S e T apresentam uma grande correlação com o rms e o skewness de todas as correntes."
   ]
  },
  {
   "cell_type": "markdown",
   "metadata": {},
   "source": [
    "# Feature Selection"
   ]
  },
  {
   "cell_type": "markdown",
   "metadata": {},
   "source": [
    "## 1. Realizar um estudo de relevância de atributos utilzando as técnicas exibidas na aula.\n",
    "\n",
    "Nesse momento utilize a base de dados `Clinical_data_09-09-19-processed.csv`. Uma breve descrição da base:\n",
    "- Contém um histórico dos registros de pacientes acometidos com uma determinada patologia.\n",
    "- Os registros são variados, vão desde resposta de questionários médicos de anamnese, por exemplo, \"*É fumante nos últimos 5 anos?*\", \"*Faz uso de álcool constantemente?*\", até resultados de exames clínicos como ECG e Ecocardiograma.\n",
    "- O rótulo dessa base é a coluna `Óbito`."
   ]
  },
  {
   "cell_type": "markdown",
   "metadata": {},
   "source": [
    "### Carregue a base"
   ]
  },
  {
   "cell_type": "code",
   "execution_count": 196,
   "metadata": {},
   "outputs": [],
   "source": [
    "DATAFOLDER = path.join('..', '..', 'data')\n",
    "DATAFILES = [\n",
    "        'Clinical_data_09-09-19-processed.csv'\n",
    "]\n",
    "\n",
    "ELETROCARDIOGRAMA = ['ECG ', 'FC',\n",
    "       'Alt Prim', 'Dist Cond InterVent ', 'Dist Cond AtrioVent ',\n",
    "       'Pausa > 3s ', 'ESV', 'EV', 'TVMNS', 'Area Elet inativa'] \n",
    "\n",
    "HISTORIA_PREVIA = [\n",
    "       'Cancer', 'HAS', 'DM2', 'Cardiopatia Outra',\n",
    "       'Marcapasso', 'Sincope', 'Fibrilação/Flutter Atrial', 'I R Crônica',\n",
    "       'DLP', 'Coronariopatia', 'Embolia Pulmonar', 'Ins Cardiaca ', 'AVC',\n",
    "       'DVP', 'TSH', 'Tabagismo', 'Alcoolismo', 'Sedentarismo']\n",
    "\n",
    "data = pd.read_csv(path.join(DATAFOLDER, DATAFILES[0]))"
   ]
  },
  {
   "cell_type": "code",
   "execution_count": 197,
   "metadata": {},
   "outputs": [],
   "source": [
    "X = data[HISTORIA_PREVIA]\n",
    "y = data[\"Obito\"]"
   ]
  },
  {
   "cell_type": "markdown",
   "metadata": {},
   "source": [
    "### a) Análise exploratória na base de dados\n",
    "- Use a ferramenta `pandas-profiling` https://github.com/pandas-profiling/pandas-profiling\n",
    "- Faça um resumo do relatório, destacando os principais pontos gerados na base."
   ]
  },
  {
   "cell_type": "code",
   "execution_count": 4,
   "metadata": {},
   "outputs": [
    {
     "data": {
      "application/vnd.jupyter.widget-view+json": {
       "model_id": "721aa0498d2644d98b7bae6500d74947",
       "version_major": 2,
       "version_minor": 0
      },
      "text/plain": [
       "HBox(children=(FloatProgress(value=0.0, description='variables', max=60.0, style=ProgressStyle(description_wid…"
      ]
     },
     "metadata": {},
     "output_type": "display_data"
    },
    {
     "name": "stdout",
     "output_type": "stream",
     "text": [
      "\n"
     ]
    },
    {
     "data": {
      "application/vnd.jupyter.widget-view+json": {
       "model_id": "08b21839e171424eba22c90460a8d2c7",
       "version_major": 2,
       "version_minor": 0
      },
      "text/plain": [
       "HBox(children=(FloatProgress(value=0.0, description='correlations', max=6.0, style=ProgressStyle(description_w…"
      ]
     },
     "metadata": {},
     "output_type": "display_data"
    },
    {
     "name": "stdout",
     "output_type": "stream",
     "text": [
      "\n"
     ]
    },
    {
     "data": {
      "application/vnd.jupyter.widget-view+json": {
       "model_id": "ac73146e5a614f379eada21fae8d8baf",
       "version_major": 2,
       "version_minor": 0
      },
      "text/plain": [
       "HBox(children=(FloatProgress(value=0.0, description='interactions [continuous]', max=196.0, style=ProgressStyl…"
      ]
     },
     "metadata": {},
     "output_type": "display_data"
    },
    {
     "name": "stdout",
     "output_type": "stream",
     "text": [
      "\n"
     ]
    },
    {
     "data": {
      "application/vnd.jupyter.widget-view+json": {
       "model_id": "dbcfee997c4e486a8f2842e19fcfa12a",
       "version_major": 2,
       "version_minor": 0
      },
      "text/plain": [
       "HBox(children=(FloatProgress(value=0.0, description='table', max=1.0, style=ProgressStyle(description_width='i…"
      ]
     },
     "metadata": {},
     "output_type": "display_data"
    },
    {
     "name": "stdout",
     "output_type": "stream",
     "text": [
      "\n"
     ]
    },
    {
     "data": {
      "application/vnd.jupyter.widget-view+json": {
       "model_id": "271af7c0961840068bc79089d894ae5c",
       "version_major": 2,
       "version_minor": 0
      },
      "text/plain": [
       "HBox(children=(FloatProgress(value=0.0, description='missing', max=4.0, style=ProgressStyle(description_width=…"
      ]
     },
     "metadata": {},
     "output_type": "display_data"
    },
    {
     "name": "stdout",
     "output_type": "stream",
     "text": [
      "\n"
     ]
    },
    {
     "data": {
      "application/vnd.jupyter.widget-view+json": {
       "model_id": "ca457969a5254c22960c500b7b8bf6d8",
       "version_major": 2,
       "version_minor": 0
      },
      "text/plain": [
       "HBox(children=(FloatProgress(value=0.0, description='warnings', max=3.0, style=ProgressStyle(description_width…"
      ]
     },
     "metadata": {},
     "output_type": "display_data"
    },
    {
     "name": "stdout",
     "output_type": "stream",
     "text": [
      "\n"
     ]
    },
    {
     "data": {
      "application/vnd.jupyter.widget-view+json": {
       "model_id": "758395886dd44e4f9ca93e1096e64457",
       "version_major": 2,
       "version_minor": 0
      },
      "text/plain": [
       "HBox(children=(FloatProgress(value=0.0, description='package', max=1.0, style=ProgressStyle(description_width=…"
      ]
     },
     "metadata": {},
     "output_type": "display_data"
    },
    {
     "name": "stdout",
     "output_type": "stream",
     "text": [
      "\n"
     ]
    },
    {
     "data": {
      "application/vnd.jupyter.widget-view+json": {
       "model_id": "4ac3fc1ec3c64623988f1b0665d24073",
       "version_major": 2,
       "version_minor": 0
      },
      "text/plain": [
       "HBox(children=(FloatProgress(value=0.0, description='build report structure', max=1.0, style=ProgressStyle(des…"
      ]
     },
     "metadata": {},
     "output_type": "display_data"
    },
    {
     "name": "stdout",
     "output_type": "stream",
     "text": [
      "\n"
     ]
    }
   ],
   "source": [
    "from pandas_profiling import ProfileReport\n",
    "\n",
    "profile = ProfileReport(data, title='Seleção de Atributos')"
   ]
  },
  {
   "cell_type": "code",
   "execution_count": 5,
   "metadata": {
    "scrolled": false
   },
   "outputs": [
    {
     "data": {
      "application/vnd.jupyter.widget-view+json": {
       "model_id": "e813c4170bea4ecb82aa15a841b43cba",
       "version_major": 2,
       "version_minor": 0
      },
      "text/plain": [
       "Tab(children=(Tab(children=(GridBox(children=(VBox(children=(GridspecLayout(children=(HTML(value='Number of va…"
      ]
     },
     "metadata": {},
     "output_type": "display_data"
    },
    {
     "data": {
      "text/html": [
       "Report generated with <a href=\"https://github.com/pandas-profiling/pandas-profiling\">pandas-profiling</a>."
      ],
      "text/plain": [
       "<IPython.core.display.HTML object>"
      ]
     },
     "metadata": {},
     "output_type": "display_data"
    }
   ],
   "source": [
    "profile.to_widgets()"
   ]
  },
  {
   "cell_type": "markdown",
   "metadata": {},
   "source": [
    "# Relatório sobre a base\n",
    "\n",
    "- Quando o relatório é gerado, podemos analisar de primeira que existem 60 (sessenta) variáveis e 410 informações faltando no documento analisado. Além da análise individual de cada variável que contém diferentes formas de atribuições, sendo algumas delas por nome, idade, zeros e uns.\n",
    "- Na planilha de interações, o comportamento de cada variável individualmente é linear, mas a interação com outras variáveis varia, sendo que em algumas permanecem constantes ou com uma  representação independente podendo ter pontos acumulados em uma determinada região e outros dispersos pelo gráfico.\n",
    "- A correlação de Pearson é uma medida de associação linear entre as variáveis. Se analisado o Óbito dos pacientes com o histórico de doenças, podemos identificar quais foram as possíveis causas do Óbito, onde estiver mais avermelhado possue uma correlação alta e quanto mais azul, existe uma correlação negativa."
   ]
  },
  {
   "cell_type": "markdown",
   "metadata": {},
   "source": [
    "### b) Identicar qual a variáveis parecem influenciar no óbito dos pacientes :(\n",
    "- Utilize o código `feature_selection_framework` https://github.com/navarmn/feature_selection_framework \n",
    "- Monte o resultado em um `DataFrame`, as colunas serão referentes aos métodos e as linhas deverão ser os atributos. Coloque 1 quando o método indicar como relevante e 0 quando o método indicar com não relevante;\n",
    "- Utilize o seguinte critério para validar um atributo como relevante: moda >= 3"
   ]
  },
  {
   "cell_type": "code",
   "execution_count": 198,
   "metadata": {},
   "outputs": [],
   "source": [
    "colunas = ['Correlation', 'Backward Elimination', 'Recursive Feature Elimination','ANOVA', 'Embedded', 'Ensemble']\n",
    "\n",
    "df_final = pd.DataFrame(index = HISTORIA_PREVIA, columns = colunas)"
   ]
  },
  {
   "cell_type": "code",
   "execution_count": 199,
   "metadata": {},
   "outputs": [
    {
     "name": "stdout",
     "output_type": "stream",
     "text": [
      "Optimum number of features: 10\n",
      "Score with 10 features: 0.057256\n",
      "Best alpha using built-in LassoCV: 0.013854\n",
      "Best score using built-in LassoCV: 0.067040\n",
      "Lasso picked 3 variables and eliminated the other 15 variables\n"
     ]
    }
   ],
   "source": [
    "# Correlation\n",
    "Cor = []\n",
    "fs = Correlation()\n",
    "fs.fit(X, y)\n",
    "Cor = fs.relevant_features\n",
    "df_Cor = pd.DataFrame(data=Cor, columns=['Correlation'])\n",
    "\n",
    "# Backward Elimination (BE)\n",
    "BE = []\n",
    "fs1 = BackwardElimination()\n",
    "fs1.fit(X, y)\n",
    "BE = fs1.relevant_features\n",
    "df_BE = pd.DataFrame(data = BE, columns = ['Backward Elimination']) \n",
    "\n",
    "# Recursive Feature Elimination (RFE)\n",
    "RFE = []\n",
    "fs2 = RecursiveFeatureElimination()\n",
    "fs2.fit(X, y)\n",
    "RFE = fs2.relevant_features\n",
    "df_RFE = pd.DataFrame(data = RFE, columns = ['Recursive Feature Elimination'])\n",
    "\n",
    "# ANOVA\n",
    "Anova = []\n",
    "fs3 = ANOVA()\n",
    "fs3.fit(X, y)\n",
    "Anova = fs3.relevant_features\n",
    "df_Anova = pd.DataFrame(data = Anova, columns = ['ANOVA'])\n",
    "\n",
    "# Embedded\n",
    "Emb = []\n",
    "fs4 = Embedded()\n",
    "fs4.fit(X, y)\n",
    "Emb = fs4.relevant_features\n",
    "df_Emb = pd.DataFrame(data = Emb, columns = ['Embedded'])\n",
    "\n",
    "# Ensemble\n",
    "Ens = []\n",
    "fs5 = Ensemble()\n",
    "fs5.fit(X, y)\n",
    "Ens = fs5.relevant_features\n",
    "df_Ens = pd.DataFrame(data = Ens, columns = ['Ensemble'])"
   ]
  },
  {
   "cell_type": "code",
   "execution_count": 258,
   "metadata": {},
   "outputs": [
    {
     "data": {
      "text/html": [
       "<div>\n",
       "<style scoped>\n",
       "    .dataframe tbody tr th:only-of-type {\n",
       "        vertical-align: middle;\n",
       "    }\n",
       "\n",
       "    .dataframe tbody tr th {\n",
       "        vertical-align: top;\n",
       "    }\n",
       "\n",
       "    .dataframe thead th {\n",
       "        text-align: right;\n",
       "    }\n",
       "</style>\n",
       "<table border=\"1\" class=\"dataframe\">\n",
       "  <thead>\n",
       "    <tr style=\"text-align: right;\">\n",
       "      <th></th>\n",
       "      <th>Correlation</th>\n",
       "      <th>Backward Elimination</th>\n",
       "      <th>Recursive Feature Elimination</th>\n",
       "      <th>ANOVA</th>\n",
       "      <th>Embedded</th>\n",
       "      <th>Ensemble</th>\n",
       "    </tr>\n",
       "  </thead>\n",
       "  <tbody>\n",
       "    <tr>\n",
       "      <th>Cancer</th>\n",
       "      <td>0</td>\n",
       "      <td>0</td>\n",
       "      <td>0</td>\n",
       "      <td>0</td>\n",
       "      <td>0</td>\n",
       "      <td>0</td>\n",
       "    </tr>\n",
       "    <tr>\n",
       "      <th>HAS</th>\n",
       "      <td>0</td>\n",
       "      <td>0</td>\n",
       "      <td>0</td>\n",
       "      <td>0</td>\n",
       "      <td>0</td>\n",
       "      <td>0</td>\n",
       "    </tr>\n",
       "    <tr>\n",
       "      <th>DM2</th>\n",
       "      <td>0</td>\n",
       "      <td>0</td>\n",
       "      <td>0</td>\n",
       "      <td>0</td>\n",
       "      <td>0</td>\n",
       "      <td>0</td>\n",
       "    </tr>\n",
       "    <tr>\n",
       "      <th>Cardiopatia Outra</th>\n",
       "      <td>0</td>\n",
       "      <td>0</td>\n",
       "      <td>0</td>\n",
       "      <td>0</td>\n",
       "      <td>0</td>\n",
       "      <td>0</td>\n",
       "    </tr>\n",
       "    <tr>\n",
       "      <th>Marcapasso</th>\n",
       "      <td>0</td>\n",
       "      <td>0</td>\n",
       "      <td>0</td>\n",
       "      <td>0</td>\n",
       "      <td>0</td>\n",
       "      <td>0</td>\n",
       "    </tr>\n",
       "    <tr>\n",
       "      <th>Sincope</th>\n",
       "      <td>0</td>\n",
       "      <td>0</td>\n",
       "      <td>0</td>\n",
       "      <td>0</td>\n",
       "      <td>0</td>\n",
       "      <td>0</td>\n",
       "    </tr>\n",
       "    <tr>\n",
       "      <th>Fibrilação/Flutter Atrial</th>\n",
       "      <td>0</td>\n",
       "      <td>0</td>\n",
       "      <td>0</td>\n",
       "      <td>0</td>\n",
       "      <td>0</td>\n",
       "      <td>0</td>\n",
       "    </tr>\n",
       "    <tr>\n",
       "      <th>I R Crônica</th>\n",
       "      <td>0</td>\n",
       "      <td>0</td>\n",
       "      <td>0</td>\n",
       "      <td>0</td>\n",
       "      <td>0</td>\n",
       "      <td>0</td>\n",
       "    </tr>\n",
       "    <tr>\n",
       "      <th>DLP</th>\n",
       "      <td>0</td>\n",
       "      <td>0</td>\n",
       "      <td>0</td>\n",
       "      <td>0</td>\n",
       "      <td>0</td>\n",
       "      <td>0</td>\n",
       "    </tr>\n",
       "    <tr>\n",
       "      <th>Coronariopatia</th>\n",
       "      <td>0</td>\n",
       "      <td>0</td>\n",
       "      <td>0</td>\n",
       "      <td>0</td>\n",
       "      <td>0</td>\n",
       "      <td>0</td>\n",
       "    </tr>\n",
       "    <tr>\n",
       "      <th>Embolia Pulmonar</th>\n",
       "      <td>0</td>\n",
       "      <td>0</td>\n",
       "      <td>0</td>\n",
       "      <td>0</td>\n",
       "      <td>0</td>\n",
       "      <td>0</td>\n",
       "    </tr>\n",
       "    <tr>\n",
       "      <th>Ins Cardiaca</th>\n",
       "      <td>1</td>\n",
       "      <td>1</td>\n",
       "      <td>1</td>\n",
       "      <td>1</td>\n",
       "      <td>1</td>\n",
       "      <td>0</td>\n",
       "    </tr>\n",
       "    <tr>\n",
       "      <th>AVC</th>\n",
       "      <td>0</td>\n",
       "      <td>0</td>\n",
       "      <td>0</td>\n",
       "      <td>0</td>\n",
       "      <td>0</td>\n",
       "      <td>0</td>\n",
       "    </tr>\n",
       "    <tr>\n",
       "      <th>DVP</th>\n",
       "      <td>0</td>\n",
       "      <td>0</td>\n",
       "      <td>0</td>\n",
       "      <td>0</td>\n",
       "      <td>0</td>\n",
       "      <td>0</td>\n",
       "    </tr>\n",
       "    <tr>\n",
       "      <th>TSH</th>\n",
       "      <td>0</td>\n",
       "      <td>0</td>\n",
       "      <td>0</td>\n",
       "      <td>0</td>\n",
       "      <td>0</td>\n",
       "      <td>0</td>\n",
       "    </tr>\n",
       "    <tr>\n",
       "      <th>Tabagismo</th>\n",
       "      <td>0</td>\n",
       "      <td>0</td>\n",
       "      <td>0</td>\n",
       "      <td>0</td>\n",
       "      <td>0</td>\n",
       "      <td>0</td>\n",
       "    </tr>\n",
       "    <tr>\n",
       "      <th>Alcoolismo</th>\n",
       "      <td>0</td>\n",
       "      <td>0</td>\n",
       "      <td>0</td>\n",
       "      <td>0</td>\n",
       "      <td>0</td>\n",
       "      <td>0</td>\n",
       "    </tr>\n",
       "    <tr>\n",
       "      <th>Sedentarismo</th>\n",
       "      <td>0</td>\n",
       "      <td>0</td>\n",
       "      <td>0</td>\n",
       "      <td>0</td>\n",
       "      <td>0</td>\n",
       "      <td>0</td>\n",
       "    </tr>\n",
       "  </tbody>\n",
       "</table>\n",
       "</div>"
      ],
      "text/plain": [
       "                          Correlation Backward Elimination  \\\n",
       "Cancer                              0                    0   \n",
       "HAS                                 0                    0   \n",
       "DM2                                 0                    0   \n",
       "Cardiopatia Outra                   0                    0   \n",
       "Marcapasso                          0                    0   \n",
       "Sincope                             0                    0   \n",
       "Fibrilação/Flutter Atrial           0                    0   \n",
       "I R Crônica                         0                    0   \n",
       "DLP                                 0                    0   \n",
       "Coronariopatia                      0                    0   \n",
       "Embolia Pulmonar                    0                    0   \n",
       "Ins Cardiaca                        1                    1   \n",
       "AVC                                 0                    0   \n",
       "DVP                                 0                    0   \n",
       "TSH                                 0                    0   \n",
       "Tabagismo                           0                    0   \n",
       "Alcoolismo                          0                    0   \n",
       "Sedentarismo                        0                    0   \n",
       "\n",
       "                          Recursive Feature Elimination ANOVA Embedded  \\\n",
       "Cancer                                                0     0        0   \n",
       "HAS                                                   0     0        0   \n",
       "DM2                                                   0     0        0   \n",
       "Cardiopatia Outra                                     0     0        0   \n",
       "Marcapasso                                            0     0        0   \n",
       "Sincope                                               0     0        0   \n",
       "Fibrilação/Flutter Atrial                             0     0        0   \n",
       "I R Crônica                                           0     0        0   \n",
       "DLP                                                   0     0        0   \n",
       "Coronariopatia                                        0     0        0   \n",
       "Embolia Pulmonar                                      0     0        0   \n",
       "Ins Cardiaca                                          1     1        1   \n",
       "AVC                                                   0     0        0   \n",
       "DVP                                                   0     0        0   \n",
       "TSH                                                   0     0        0   \n",
       "Tabagismo                                             0     0        0   \n",
       "Alcoolismo                                            0     0        0   \n",
       "Sedentarismo                                          0     0        0   \n",
       "\n",
       "                          Ensemble  \n",
       "Cancer                           0  \n",
       "HAS                              0  \n",
       "DM2                              0  \n",
       "Cardiopatia Outra                0  \n",
       "Marcapasso                       0  \n",
       "Sincope                          0  \n",
       "Fibrilação/Flutter Atrial        0  \n",
       "I R Crônica                      0  \n",
       "DLP                              0  \n",
       "Coronariopatia                   0  \n",
       "Embolia Pulmonar                 0  \n",
       "Ins Cardiaca                     0  \n",
       "AVC                              0  \n",
       "DVP                              0  \n",
       "TSH                              0  \n",
       "Tabagismo                        0  \n",
       "Alcoolismo                       0  \n",
       "Sedentarismo                     0  "
      ]
     },
     "execution_count": 258,
     "metadata": {},
     "output_type": "execute_result"
    }
   ],
   "source": [
    "cont = 0\n",
    "for r in range(df_Cor.shape[0]):\n",
    "    for hp in HISTORIA_PREVIA:\n",
    "        if df_Cor.loc[r,'Correlation'] == hp:\n",
    "            df_final.loc[hp,'Correlation'] = hp\n",
    "            cont+=1\n",
    "        else:\n",
    "            cont+=1\n",
    "\n",
    "cont = 0\n",
    "for r in range(df_BE.shape[0]):\n",
    "    for hp in HISTORIA_PREVIA:\n",
    "        if df_BE.loc[r,'Backward Elimination'] == hp:\n",
    "            df_final.loc[hp,'Backward Elimination'] = hp\n",
    "            cont+=1\n",
    "        else:\n",
    "            cont+=1\n",
    "            \n",
    "cont = 0\n",
    "for r in range(df_RFE.shape[0]):\n",
    "    for hp in HISTORIA_PREVIA:\n",
    "        if df_RFE.loc[r,'Recursive Feature Elimination'] == hp:\n",
    "            df_final.loc[hp,'Recursive Feature Elimination'] = hp\n",
    "            cont+=1\n",
    "        else:\n",
    "            cont+=1\n",
    "\n",
    "cont = 0\n",
    "for r in range(df_Anova.shape[0]):\n",
    "    for hp in HISTORIA_PREVIA:\n",
    "        if df_Anova.loc[r,'ANOVA'] == hp:\n",
    "            df_final.loc[hp,'ANOVA'] = hp\n",
    "            cont+=1\n",
    "        else:\n",
    "            cont+=1\n",
    "\n",
    "cont = 0\n",
    "for r in range(df_Emb.shape[0]):\n",
    "    for hp in HISTORIA_PREVIA:\n",
    "        if df_Emb.loc[r,'Embedded'] == hp:\n",
    "            df_final.loc[hp,'Embedded'] = hp\n",
    "            cont+=1\n",
    "        else:\n",
    "            cont+=1\n",
    "        \n",
    "cont = 0\n",
    "for r in range(df_Ens.shape[0]):\n",
    "    for hp in HISTORIA_PREVIA:\n",
    "        if df_Ens.loc[r,'Ensemble'] == hp:\n",
    "            df_final.loc[hp,'Ensemble'] = hp\n",
    "            cont+=1\n",
    "        else:\n",
    "            cont+=1\n",
    "            \n",
    "\n",
    "x = 0\n",
    "moda = 0\n",
    "for i in HISTORIA_PREVIA: \n",
    "    metodo = []\n",
    "    for j in colunas:\n",
    "        if df_final.loc[i,j] == i:\n",
    "            moda+= 1\n",
    "            metodo.append(i)\n",
    "    if(moda >= 3):\n",
    "        for z in colunas:\n",
    "            df_final.loc[i,z] = '1'\n",
    "         \n",
    "        else:\n",
    "            df_final.loc[i,z] = '0'    \n",
    "    else:\n",
    "        for h in colunas:\n",
    "            df_final.loc[i,h] = '0'\n",
    "    x+=1\n",
    "    moda=0\n",
    "\n",
    "df_final"
   ]
  },
  {
   "cell_type": "markdown",
   "metadata": {},
   "source": [
    "## 2. QUESTÃO DESAFIO\n",
    "- Essa etapa não entrará com atividade avaliativa, pois a base de dados a seguir não é tão bonita quanto parece 🤪. Há muitas etapas de pré-processamento, agrupmaento e mais importante de tudo, o usuário tem que fazer as duas tabelas `weekly-infos-before-shrink.csv` e `user-status-after-shrink.csv` conversarem entre si.\n",
    "- Fique à vontade para tentar e para tirar dúvidas. 😊"
   ]
  },
  {
   "cell_type": "markdown",
   "metadata": {},
   "source": [
    "Nesse momento utilize a base de dados `weekly-infos-before-shrink.csv` e `user-status-after-shrink.csv`. Uma breve descrição da base:\n",
    "- Essa base foi retirada de um serviço de streaming de midia. Os atributos são relativos a perfis de consumo de usuários.\n",
    "- O objetivo é realizar detecção de *churn* (https://resultadosdigitais.com.br/blog/o-que-e-churn/)\n",
    "- Possui um registro de 17 semanas de uso e os rótulos estáo na tabela `user-status-after-shrink.csv`, que indicam se ao final do período o usuário cancelou e se manteve assinante."
   ]
  },
  {
   "cell_type": "code",
   "execution_count": 334,
   "metadata": {},
   "outputs": [],
   "source": []
  },
  {
   "cell_type": "markdown",
   "metadata": {},
   "source": [
    "### a) Análise exploratória na base de dados\n",
    "- Use a ferramenta `pandas-profiling` https://github.com/pandas-profiling/pandas-profiling\n",
    "- Faça um resumo do relatório, destacando os principais pontos gerados na base.\n",
    "> Exiba a matriz de correlação!"
   ]
  },
  {
   "cell_type": "code",
   "execution_count": 9,
   "metadata": {},
   "outputs": [],
   "source": []
  },
  {
   "cell_type": "markdown",
   "metadata": {},
   "source": [
    "### b) Identicar qual a variáveis parecem influenciar no cancelamento da assinatura.\n",
    "\n",
    "- Utilize o código `feature_selection_framework` https://github.com/navarmn/feature_selection_framework \n",
    "- Monte o resultado em um `DataFrame`, as colunas serão referentes aos métodos e as linhas deverão ser os atributos. Coloque 1 quando o método indicar como relevante e 0 quando o método indicar com não relevante;\n",
    "- Utilize o seguinte critério para validar um atributo como relevante: moda >= 3"
   ]
  },
  {
   "cell_type": "code",
   "execution_count": 10,
   "metadata": {},
   "outputs": [],
   "source": [
    "# code here"
   ]
  }
 ],
 "metadata": {
  "kernelspec": {
   "display_name": "Python data science",
   "language": "python",
   "name": "python-data-science"
  },
  "language_info": {
   "codemirror_mode": {
    "name": "ipython",
    "version": 3
   },
   "file_extension": ".py",
   "mimetype": "text/x-python",
   "name": "python",
   "nbconvert_exporter": "python",
   "pygments_lexer": "ipython3",
   "version": "3.6.9"
  }
 },
 "nbformat": 4,
 "nbformat_minor": 4
}
